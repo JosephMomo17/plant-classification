{
 "cells": [
  {
   "cell_type": "code",
   "execution_count": null,
   "metadata": {
    "_cell_guid": "79c7e3d0-c299-4dcb-8224-4455121ee9b0",
    "_uuid": "d629ff2d2480ee46fbb7e2d37f6b5fab8052498a",
    "collapsed": true
   },
   "outputs": [],
   "source": [
    "import fnmatch\n",
    "import os\n",
    "import numpy as np\n",
    "import pandas as pd\n",
    "from keras.applications.vgg16 import preprocess_input\n",
    "from keras.preprocessing import image\n",
    "np.random.seed(21)\n",
    "\n",
    "path = '../input/train/'\n",
    "train_label = []\n",
    "train_img = []\n",
    "label_enum = {'Loose Silky-bent':0, 'Charlock':1, 'Sugar beet':2, 'Small-flowered Cranesbill':3,\n",
    "             'Common Chickweed':4, 'Common wheat':5, 'Maize':6, 'Cleavers':7, 'Scentless Mayweed':8,\n",
    "             'Fat Hen':9, 'Black-grass':10, 'Shepherds Purse':11}\n",
    "for i in os.listdir(path):\n",
    "    label_number = label_enum[i]\n",
    "    new_path = path+i+'/'\n",
    "    for j in fnmatch.filter(os.listdir(new_path), '*.png'):\n",
    "        temp_img = image.load_img(new_path+j, target_size=(128,128))\n",
    "        train_label.append(label_number)\n",
    "        temp_img = image.img_to_array(temp_img)\n",
    "        train_img.append(temp_img)\n",
    "train_img = np.array(train_img)\n",
    "\n",
    "train_y=pd.get_dummies(train_label)\n",
    "train_y = np.array(train_y)\n",
    "train_img=preprocess_input(train_img)\n",
    "\n",
    "print('Training data shape: ', train_img.shape)\n",
    "print('Training labels shape: ', train_y.shape)"
   ]
  },
  {
   "cell_type": "code",
   "execution_count": null,
   "metadata": {
    "_uuid": "67b2b1338d998c3fbe29a4f64c7e8404649b373e",
    "collapsed": true
   },
   "outputs": [],
   "source": [
    "import keras\n",
    "from keras.models import Sequential,Model\n",
    "from keras.layers import Dense, Dropout, Flatten, Activation\n",
    "from keras.layers import Conv2D, MaxPooling2D\n",
    "\n",
    "def easy_model(num_classes=None):\n",
    "    model = Sequential()\n",
    "    model.add(Conv2D(32, 5, input_shape=(128, 128, 3), activation= 'relu' ))\n",
    "    model.add(MaxPooling2D(pool_size=(2, 2)))\n",
    "    model.add(Conv2D(16, 3, activation= 'relu'))\n",
    "    model.add(MaxPooling2D(pool_size=(2, 2)))\n",
    "    model.add(Dropout(0.2))\n",
    "    model.add(Flatten())\n",
    "    model.add(Dense(128, activation='relu'))\n",
    "    model.add(Dense(50, activation='relu'))\n",
    "    model.add(Dense(num_classes, activation='softmax'))\n",
    "    \n",
    "    return model"
   ]
  },
  {
   "cell_type": "code",
   "execution_count": null,
   "metadata": {
    "_uuid": "142ab696f8f3e7cba6a91fe24d749f4179dc82c2",
    "collapsed": true
   },
   "outputs": [],
   "source": [
    "from keras import backend as K\n",
    "num_classes = 12\n",
    "model = easy_model(num_classes)\n",
    "model.compile(optimizer=\"adam\", loss='categorical_crossentropy', metrics=['accuracy'])\n",
    "model.summary()"
   ]
  },
  {
   "cell_type": "code",
   "execution_count": null,
   "metadata": {
    "_uuid": "0a59b5187372e2fd19de7a787bfd2a7733b14d8b",
    "collapsed": true
   },
   "outputs": [],
   "source": [
    "from sklearn.model_selection import train_test_split\n",
    "X_train, X_valid, Y_train, Y_valid=train_test_split(train_img,train_y,test_size=0.1, random_state=42)\n",
    "\n",
    "from keras.callbacks import ModelCheckpoint\n",
    "epochs = 10\n",
    "batch_size = 16\n",
    "\n",
    "model.fit(X_train,Y_train,\n",
    "          batch_size=16,\n",
    "          epochs=20,\n",
    "          verbose=1, shuffle=True, validation_data=(X_valid,Y_valid))"
   ]
  },
  {
   "cell_type": "code",
   "execution_count": null,
   "metadata": {
    "_uuid": "471fe3a1a99055b7ae497b07088f265423bfc046",
    "collapsed": true
   },
   "outputs": [],
   "source": [
    "prob = []\n",
    "num = []\n",
    "test_img = []\n",
    "test_path = '../input/test/'\n",
    "test_data = fnmatch.filter(os.listdir(test_path), '*.png')\n",
    "\n",
    "test_img = []\n",
    "for i in range(len(test_data)):\n",
    "    path = test_path+'/'+test_all[i]\n",
    "    temp_img = image.load_img(path,target_size=(128,128))\n",
    "    temp_img = image.img_to_array(temp_img)\n",
    "    test_img.append(temp_img) \n",
    "test_img = np.array(test_img)    \n",
    "test_img = preprocess_input(test_img)\n",
    "\n",
    "\n",
    "test_labels = []\n",
    "pred = model.predict(test_img)\n",
    "enum_labels =  {0:'Loose Silky-bent', 1:'Charlock',2: 'Sugar beet',3: 'Small-flowered Cranesbill',\n",
    "              4:'Common Chickweed',5: 'Common wheat',6: 'Maize', 7:'Cleavers', 8:'Scentless Mayweed',\n",
    "             9: 'Fat Hen', 10:'Black-grass', 11:'Shepherds Purse'}\n",
    "\n",
    "for i in range(len(test_data)):\n",
    "    max_score = 0\n",
    "    lab = -1\n",
    "    for j in range(12):\n",
    "        if pred[i][j]>max_score:\n",
    "            max_score = pred[i][j]\n",
    "            lab = j\n",
    "    test_labels.append(enum_labels[lab])\n",
    "\n",
    "\n",
    "d = {'file': test_all, 'species': test_labels}\n",
    "df = pd.DataFrame(data=d)\n",
    "print(df.head(5))"
   ]
  },
  {
   "cell_type": "code",
   "execution_count": null,
   "metadata": {
    "_uuid": "2a1f28c5066d28b94cb2134518cdaf505b163119",
    "collapsed": true
   },
   "outputs": [],
   "source": [
    "#Convert dataframe to csv\n",
    "df.to_csv(\"submit.csv\",index=False) \n",
    "\n",
    "#Submit the csv\n",
    "print('Submitting csv')"
   ]
  }
 ],
 "metadata": {
  "anaconda-cloud": {},
  "kernelspec": {
   "display_name": "Python [default]",
   "language": "python",
   "name": "python3"
  },
  "language_info": {
   "codemirror_mode": {
    "name": "ipython",
    "version": 3
   },
   "file_extension": ".py",
   "mimetype": "text/x-python",
   "name": "python",
   "nbconvert_exporter": "python",
   "pygments_lexer": "ipython3",
   "version": "3.5.2"
  }
 },
 "nbformat": 4,
 "nbformat_minor": 1
}
